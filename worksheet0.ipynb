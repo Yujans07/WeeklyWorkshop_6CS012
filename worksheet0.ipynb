{
  "nbformat": 4,
  "nbformat_minor": 0,
  "metadata": {
    "colab": {
      "provenance": []
    },
    "kernelspec": {
      "name": "python3",
      "display_name": "Python 3"
    },
    "language_info": {
      "name": "python"
    }
  },
  "cells": [
    {
      "cell_type": "markdown",
      "source": [
        "# 4 TO-DO - Task\n",
        "\n",
        "Please complete all the problem listed below."
      ],
      "metadata": {
        "id": "cUMlLQXwBHVl"
      }
    },
    {
      "cell_type": "markdown",
      "source": [
        "## 4.1 Exercise on Functions:\n",
        "\n",
        "### Task - 1:\n",
        "Create a Python program that converts between different units of measurement.\n",
        "- The program should:\n",
        "  1. Prompt the user to choose the type of conversion (e.g., length, weight, volume).\n",
        "  2. Ask the user to input the value to be converted.\n",
        "  3. Perform the conversion and display the result.\n",
        "  4. Handle potential errors, such as invalid input or unsupported conversion types.\n",
        "- Requirements:\n",
        "  1. Functions: Define at least one function to perform the conversion.\n",
        "  2. Error Handling: Use try-except blocks to handle invalid input (e.g., non-numeric values).\n",
        "  3. User Input: Prompt the user to select the conversion type and input the value.\n",
        "  4. Docstrings: Include a docstring in your function to describe its purpose, parameters, and return value.\n",
        "- Conversion Options:\n",
        "  1. Length:\n",
        "     - Convert meters (m) to feet (ft).\n",
        "     - Convert feet (ft) to meters (m).\n",
        "  2. Weight:\n",
        "     - Convert kilograms (kg) to pounds (lbs).\n",
        "     - Convert pounds (lbs) to kilograms (kg).\n",
        "  3. Volume:\n",
        "     - Convert liters (L) to gallons (gal).\n",
        "     - Convert gallons (gal) to liters (L)."
      ],
      "metadata": {
        "id": "LdnWjCGiAe7w"
      }
    },
    {
      "cell_type": "code",
      "source": [
        "def convert(option, num):\n",
        "  \"\"\"Converts between different units of measurement.\n",
        "\n",
        "  Args:\n",
        "    option: An integer representing the conversion option.\n",
        "    num: A float representing the value to be converted.\n",
        "\n",
        "  Returns:\n",
        "    The converted value, or None if the conversion option is invalid.\n",
        "  \"\"\"\n",
        "  if option == 1:\n",
        "    return num * 3.28084\n",
        "  elif option == 2:\n",
        "    return num / 3.28084\n",
        "  elif option == 3:\n",
        "    return num * 2.20462\n",
        "  elif option == 4:\n",
        "    return num / 2.20462\n",
        "  elif option == 5:\n",
        "    return num / 3.78541\n",
        "  elif option == 6:\n",
        "    return num * 3.78541\n",
        "  else:\n",
        "    return None\n",
        "\n",
        "try:\n",
        "  option = int(input('''Enter an option:\n",
        "                    Conversion Options:\n",
        "                      Length:\n",
        "                      1)Convert meters (m) to feet (ft).\n",
        "                      2)Convert feet (ft) to meters (m).\n",
        "                      Weight:\n",
        "                      3)Convert kilograms (kg) to pounds (lbs).\n",
        "                      4)Convert pounds (lbs) to kilograms (kg).\n",
        "                      Volume:\n",
        "                      5)Convert liters (L) to gallons (gal).\n",
        "                      6)Convert gallons (gal) to liters (L).\n",
        "                '''))\n",
        "\n",
        "  if option in range(1, 7):\n",
        "    val = float(input('Enter the value to be converted: '))\n",
        "    result = convert(option, val)\n",
        "    if result is not None:\n",
        "      print(f\"The converted value is: {result}\")\n",
        "    else:\n",
        "      print(\"Invalid conversion option.\")\n",
        "  else:\n",
        "    print(\"Invalid input. Please enter a number between 1 and 6.\")\n",
        "\n",
        "except ValueError:\n",
        "  print(\"Invalid input. Please enter a number.\")\n",
        "except Exception as e:\n",
        "  print(f\"An error occurred: {e}\")"
      ],
      "metadata": {
        "id": "t8jJqRdIDTxo"
      },
      "execution_count": null,
      "outputs": []
    },
    {
      "cell_type": "markdown",
      "source": [
        "### Task - 2:\n",
        "Create a Python program that performs various mathematical operations on a list of numbers.\n",
        "- The Program should:\n",
        "  1. Prompt the user to choose an operation (e.g., find the sum, average, maximum, or minimum of the numbers).\n",
        "  2. Ask the user to input a list of numbers (separated by spaces).\n",
        "  3. Perform the selected operation and display the result.\n",
        "  4. Handle potential errors, such as invalid input or empty lists.\n",
        "- Requirements:\n",
        "  1. Functions: Define at least one function for each operation (sum, average, maximum, minimum).\n",
        "  2. Error Handling: Use try-except blocks to handle invalid input (e.g., non-numeric values or empty lists).\n",
        "  3. User Input: Prompt the user to select the operation and input the list of numbers.\n",
        "  4. Docstrings: Include a docstring in each function to describe its purpose, parameters, and return value."
      ],
      "metadata": {
        "id": "yGtxwzf5BP82"
      }
    },
    {
      "cell_type": "code",
      "source": [
        "def calculate_sum(numbers):\n",
        "  \"\"\"Calculates the sum of a list of numbers without using built-in functions.\n",
        "\n",
        "  Args:\n",
        "    numbers: A list of numbers.\n",
        "\n",
        "  Returns:\n",
        "    The sum of the numbers in the list.\n",
        "  \"\"\"\n",
        "  total = 0\n",
        "  for number in numbers:\n",
        "    total += number\n",
        "  return total\n",
        "\n",
        "def calculate_average(numbers):\n",
        "  \"\"\"Calculates the average of a list of numbers without using built-in functions.\n",
        "\n",
        "  Args:\n",
        "    numbers: A list of numbers.\n",
        "\n",
        "  Returns:\n",
        "    The average of the numbers in the list.\n",
        "  \"\"\"\n",
        "  if not numbers:\n",
        "    return 0\n",
        "  total = calculate_sum(numbers)\n",
        "  return total / len(numbers)\n",
        "\n",
        "def find_maximum(numbers):\n",
        "  \"\"\"Finds the maximum value in a list of numbers without using built-in functions.\n",
        "\n",
        "  Args:\n",
        "    numbers: A list of numbers.\n",
        "\n",
        "  Returns:\n",
        "    The maximum value in the list.\n",
        "  \"\"\"\n",
        "  if not numbers:\n",
        "    return None  # Handle empty lists\n",
        "  maximum = numbers[0]\n",
        "  for number in numbers:\n",
        "    if number > maximum:\n",
        "      maximum = number\n",
        "  return maximum\n",
        "\n",
        "def find_minimum(numbers):\n",
        "  \"\"\"Finds the minimum value in a list of numbers without using built-in functions.\n",
        "\n",
        "  Args:\n",
        "    numbers: A list of numbers.\n",
        "\n",
        "  Returns:\n",
        "    The minimum value in the list.\n",
        "  \"\"\"\n",
        "  if not numbers:\n",
        "    return None\n",
        "  minimum = numbers[0]\n",
        "  for number in numbers:\n",
        "    if number < minimum:\n",
        "      minimum = number\n",
        "  return minimum\n",
        "\n",
        "def main():\n",
        "  \"\"\"Main function to handle user input and perform operations.\"\"\"\n",
        "  try:\n",
        "    operation = input(\"Choose an operation (sum, average, maximum, minimum): \")\n",
        "    numbers_str = input(\"Enter a list of numbers separated by spaces: \")\n",
        "    numbers = [float(num) for num in numbers_str.split()]\n",
        "\n",
        "    if operation == \"sum\":\n",
        "      result = calculate_sum(numbers)\n",
        "    elif operation == \"average\":\n",
        "      result = calculate_average(numbers)\n",
        "    elif operation == \"maximum\":\n",
        "      result = find_maximum(numbers)\n",
        "    elif operation == \"minimum\":\n",
        "      result = find_minimum(numbers)\n",
        "    else:\n",
        "      print(\"Invalid operation.\")\n",
        "      return\n",
        "\n",
        "    print(f\"The result is: {result}\")\n",
        "\n",
        "  except ValueError:\n",
        "    print(\"Invalid input. Please enter numbers only.\")\n",
        "  except Exception as e:\n",
        "    print(f\"An error occurred: {e}\")\n",
        "\n",
        "if __name__ == \"__main__\":\n",
        "  main()"
      ],
      "metadata": {
        "id": "VEEkaZZmQWqj"
      },
      "execution_count": null,
      "outputs": []
    },
    {
      "cell_type": "markdown",
      "source": [
        "## 4.2 Exercise on List Manipulation:\n",
        "\n",
        "### 1. Extract Every Other Element:\n",
        "Write a Python function that extracts every other element from a list, starting from the first element.\n",
        "- Requirements:\n",
        "  - Define a function `extract_every_other(lst)` that takes a list `lst` as input and returns a new list containing every other element from the original list.\n",
        "  - Example: For the input `[1, 2, 3, 4, 5, 6]`, the output should be `[1, 3, 5]`."
      ],
      "metadata": {
        "id": "AEM8_D4BBVSI"
      }
    },
    {
      "cell_type": "code",
      "source": [
        "def  extract_every_other(lst):\n",
        "  \"\"\"Extracts every other element from a list, starting from the first element.\n",
        "\n",
        "  Args:\n",
        "    lst: The input list\n",
        "  Returns:\n",
        "    A list of every other element from the input list.\n",
        "  \"\"\"\n",
        "  return lst[::2]\n",
        "\n",
        "\n",
        "print(extract_every_other([1, 2, 3, 4, 5, 6]))"
      ],
      "metadata": {
        "colab": {
          "base_uri": "https://localhost:8080/"
        },
        "id": "LSG16zRjQZdO",
        "outputId": "0e1936dd-a46e-46fa-f0be-bff4df1b3cc6"
      },
      "execution_count": null,
      "outputs": [
        {
          "output_type": "stream",
          "name": "stdout",
          "text": [
            "[1, 3, 5]\n"
          ]
        }
      ]
    },
    {
      "cell_type": "markdown",
      "source": [
        "### 2. Slice a Sublist:\n",
        "Write a Python function that returns a sublist from a given list, starting from a specified index and ending at another specified index.\n",
        "- Requirements:\n",
        "  - Define a function `get_sublist(lst, start, end)` that takes a list `lst`, a starting index `start`, and an ending index `end` as input and returns the sublist from start to end (inclusive).\n",
        "  - Example: For the input `[1, 2, 3, 4, 5, 6]` with `start=2` and `end=4`, the output should be `[3, 4, 5]`."
      ],
      "metadata": {
        "id": "0SU85Q-FBVOp"
      }
    },
    {
      "cell_type": "code",
      "source": [
        "def get_sublist(lst, start, end):\n",
        "  \"\"\"Returns a sublist from a given list, starting from a specified index and ending at another specified index.\n",
        "\n",
        "  Args:\n",
        "    lst: The input list.\n",
        "    start: The starting index (inclusive).\n",
        "    end: The ending index (inclusive).\n",
        "\n",
        "  Returns:\n",
        "    A sublist from the input list, or an empty list if the indices are invalid.\n",
        "  \"\"\"\n",
        "  if start < 0 or end >= len(lst) or start > end:\n",
        "    return []\n",
        "  sublist = []\n",
        "  for i in range(start, end + 1):\n",
        "    sublist.append(lst[i])\n",
        "  return sublist\n",
        "\n",
        "lst = [1, 2, 3, 4, 5, 6]\n",
        "start = 2\n",
        "end = 4\n",
        "sublist = get_sublist(lst, start, end)\n",
        "print(sublist)"
      ],
      "metadata": {
        "id": "mV-n1N7LZd23"
      },
      "execution_count": null,
      "outputs": []
    },
    {
      "cell_type": "markdown",
      "source": [
        "### 3. Reverse a List Using Slicing:\n",
        "Write a Python function that reverses a list using slicing.\n",
        "- Requirements:\n",
        "  - Define a function `reverse_list(lst)` that takes a list `lst` and returns a reversed list using slicing.\n",
        "  - Example: For the input `[1, 2, 3, 4, 5]`, the output should be `[5, 4, 3, 2, 1]`."
      ],
      "metadata": {
        "id": "FEBMiOz8BVLn"
      }
    },
    {
      "cell_type": "code",
      "source": [
        "def reverse_list(lst):\n",
        "  \"\"\"Reverses a list using slicing.\n",
        "\n",
        "  Args:\n",
        "    lst: The input list.\n",
        "\n",
        "  Returns:\n",
        "    A reversed list.\n",
        "  \"\"\"\n",
        "  return lst[::-1]\n",
        "\n",
        "lst = [1, 2, 3, 4, 5]\n",
        "reversed_lst = reverse_list(lst)\n",
        "print(reversed_lst)"
      ],
      "metadata": {
        "colab": {
          "base_uri": "https://localhost:8080/"
        },
        "id": "wEpKmsRNZ8AY",
        "outputId": "45a38979-add0-47bf-cd9f-c211d41f71c1"
      },
      "execution_count": null,
      "outputs": [
        {
          "output_type": "stream",
          "name": "stdout",
          "text": [
            "[5, 4, 3, 2, 1]\n"
          ]
        }
      ]
    },
    {
      "cell_type": "markdown",
      "source": [
        "### 4. Remove the First and Last Elements:\n",
        "Write a Python function that removes the first and last elements of a list and returns the resulting sublist.\n",
        "- Requirements:\n",
        "  - Define a function `remove_first_last(lst)` that takes a list `lst` and returns a sublist without the first and last elements using slicing.\n",
        "  - Example: For the input `[1, 2, 3, 4, 5]`, the output should be `[2, 3, 4]`."
      ],
      "metadata": {
        "id": "kUwu2AlHBVHS"
      }
    },
    {
      "cell_type": "code",
      "source": [
        "def remove_first_last(lst):\n",
        "  \"\"\"Removes the first and last elements of a list and returns the resulting sublist.\n",
        "\n",
        "  Args:\n",
        "    lst: The input list.\n",
        "\n",
        "  Returns:\n",
        "    A sublist without the first and last elements, or an empty list if the input list has fewer than 2 elements.\n",
        "  \"\"\"\n",
        "  if len(lst) < 2:\n",
        "    return []\n",
        "  return lst[1:-1]\n",
        "\n",
        "lst = [1, 2, 3, 4, 5]\n",
        "new_lst = remove_first_last(lst)\n",
        "print(new_lst)"
      ],
      "metadata": {
        "colab": {
          "base_uri": "https://localhost:8080/"
        },
        "id": "RF5wOecgaSEB",
        "outputId": "d67743c0-0cf8-42bc-b73b-ab75bddb9751"
      },
      "execution_count": null,
      "outputs": [
        {
          "output_type": "stream",
          "name": "stdout",
          "text": [
            "[2, 3, 4]\n"
          ]
        }
      ]
    },
    {
      "cell_type": "markdown",
      "source": [
        "### 5. Get the First n Elements:\n",
        "Write a Python function that extracts the first n elements from a list.\n",
        "- Requirements:\n",
        "  - Define a function `get_first_n(lst, n)` that takes a list `lst` and an integer `n` as input and returns the first n elements of the list using slicing.\n",
        "  - Example: For the input `[1, 2, 3, 4, 5]` with `n=3`, the output should be `[1, 2, 3]`.\n"
      ],
      "metadata": {
        "id": "fw0PpeidBVEL"
      }
    },
    {
      "cell_type": "code",
      "source": [
        "def get_first_n(lst, n):\n",
        "    \"\"\"Extracts the first n elements from a list using slicing.\n",
        "\n",
        "    Args:\n",
        "        lst: The input list.\n",
        "        n: The number of elements to extract.\n",
        "\n",
        "    Returns:\n",
        "        A new list containing the first n elements of the input list.\n",
        "    \"\"\"\n",
        "    return lst[:n]\n",
        "\n",
        "\n",
        "lst = [1, 2, 3, 4, 5]\n",
        "n = 3\n",
        "first_n_elements = get_first_n(lst, n)\n",
        "print(first_n_elements)"
      ],
      "metadata": {
        "colab": {
          "base_uri": "https://localhost:8080/"
        },
        "id": "glaXJ2g2aipP",
        "outputId": "37841f73-7634-4652-d96c-fdaf139e4e33"
      },
      "execution_count": null,
      "outputs": [
        {
          "output_type": "stream",
          "name": "stdout",
          "text": [
            "[1, 2, 3]\n"
          ]
        }
      ]
    },
    {
      "cell_type": "markdown",
      "source": [
        "### 6. Extract Elements from the End:\n",
        "Write a Python function that extracts the last n elements of a list using slicing.\n",
        "- Requirements:\n",
        "  - Define a function `get_last_n(lst, n)` that takes a list `lst` and an integer `n` as input and returns the last n elements of the list.\n",
        "  - Example: For the input `[1, 2, 3, 4, 5]` with `n=2`, the output should be `[4, 5]`.\n"
      ],
      "metadata": {
        "id": "iFRgGzQEBU94"
      }
    },
    {
      "cell_type": "code",
      "source": [
        "def get_last_n(lst, n):\n",
        "  \"\"\"Extracts the last n elements of a list using slicing.\n",
        "\n",
        "  Args:\n",
        "    lst: The input list.\n",
        "    n: The number of elements to extract from the end.\n",
        "\n",
        "  Returns:\n",
        "    A new list containing the last n elements of the input list.\n",
        "  \"\"\"\n",
        "  return lst[-n:]\n",
        "\n",
        "lst = [1, 2, 3, 4, 5]\n",
        "n = 2\n",
        "last_n_elements = get_last_n(lst, n)\n",
        "print(last_n_elements)"
      ],
      "metadata": {
        "colab": {
          "base_uri": "https://localhost:8080/"
        },
        "id": "QuKFGIs4a07A",
        "outputId": "6a5d0b32-9e89-482c-d380-a096113beec9"
      },
      "execution_count": null,
      "outputs": [
        {
          "output_type": "stream",
          "name": "stdout",
          "text": [
            "[4, 5]\n"
          ]
        }
      ]
    },
    {
      "cell_type": "markdown",
      "source": [
        "### 7. Extract Elements in Reverse Order:\n",
        "Write a Python function that extracts a list of elements in reverse order starting from the second-to-last element and skipping one element in between.\n",
        "- Requirements:\n",
        "  - Define a function `reverse_skip(lst)` that takes a list `lst` and returns a new list containing every second element starting from the second-to-last, moving backward.\n",
        "  - Example: For the input `[1, 2, 3, 4, 5, 6]`, the output should be `[5, 3, 1]`.\n"
      ],
      "metadata": {
        "id": "7TIOSnuOBU2Y"
      }
    },
    {
      "cell_type": "code",
      "source": [
        "def reverse_skip(lst):\n",
        "  \"\"\"Extracts a list of elements in reverse order, skipping one element in between.\n",
        "\n",
        "  Args:\n",
        "    lst: The input list.\n",
        "\n",
        "  Returns:\n",
        "    A new list containing every second element starting from the second-to-last, moving backward.\n",
        "  \"\"\"\n",
        "  return lst[-2::-2]\n",
        "\n",
        "lst = [1, 2, 3, 4, 5, 6]\n",
        "reversed_skipped_lst = reverse_skip(lst)\n",
        "print(reversed_skipped_lst)"
      ],
      "metadata": {
        "id": "fIjaCUj5bEDZ",
        "outputId": "1538089a-7778-4f63-c3e7-2a00e9466b31",
        "colab": {
          "base_uri": "https://localhost:8080/"
        }
      },
      "execution_count": null,
      "outputs": [
        {
          "output_type": "stream",
          "name": "stdout",
          "text": [
            "[5, 3, 1]\n"
          ]
        }
      ]
    },
    {
      "cell_type": "markdown",
      "source": [
        "## 4.3 Exercise on Nested List:\n",
        "\n",
        "### 1. Flatten a Nested List:\n",
        "Write a Python function that takes a nested list and flattens it into a single list, where all the elements are in a single dimension.\n",
        "- Requirements:\n",
        "  - Define a function `flatten(lst)` that takes a nested list `lst` and returns a flattened version of the list.\n",
        "  - Example: For the input `[[1, 2], [3, 4], [5]]`, the output should be `[1, 2, 3, 4, 5]`.\n"
      ],
      "metadata": {
        "id": "0DsCG0gXBUnD"
      }
    },
    {
      "cell_type": "code",
      "source": [
        "def flatten(lst):\n",
        "  \"\"\"\n",
        "  Takes a nested list list returns a flattened version of the list.\n",
        "  Args: Lst: The input list.\n",
        "  Returns: A flattened list.\n",
        "  \"\"\"\n",
        "  flat_lst = []\n",
        "  for e in lst:\n",
        "    flat_lst.extend(e)\n",
        "  return flat_lst\n",
        "\n",
        "lst = [[1, 2], [3, 4], [5]]\n",
        "flat_lst = flatten(lst)\n",
        "print(flat_lst)\n"
      ],
      "metadata": {
        "id": "oRLLy4mRbIgo",
        "colab": {
          "base_uri": "https://localhost:8080/"
        },
        "outputId": "4d931f54-3712-44c7-c348-8409a93cdf43"
      },
      "execution_count": null,
      "outputs": [
        {
          "output_type": "stream",
          "name": "stdout",
          "text": [
            "[1, 2, 3, 4, 5]\n"
          ]
        }
      ]
    },
    {
      "cell_type": "markdown",
      "source": [
        "### 2. Accessing Nested List Elements:\n",
        "Write a Python function that extracts a specific element from a nested list given its indices.\n",
        "- Requirements:\n",
        "  - Define a function `access_nested_element(lst, indices)` that takes a nested list `lst` and a list of indices `indices`, and returns the element at that position.\n",
        "  - Example: For the input `lst = [[1, 2, 3], [4, 5, 6], [7, 8, 9]]` with `indices = [1, 2]`, the output should be `6`.\n"
      ],
      "metadata": {
        "id": "uEgvxXhLB4Hu"
      }
    },
    {
      "cell_type": "code",
      "source": [
        "def access_nested_element(lst, indices):\n",
        "  \"\"\"\n",
        "  Takes a nested list and a list of indices\n",
        "  Args: lst: The input list. indices: The list of indices.\n",
        "  Returns: The element at the specified position.\n",
        "  \"\"\"\n",
        "  # for index in indices:\n",
        "  #   lst = lst[index]\n",
        "  # return lst\n",
        "  return lst[indices[0]][indices[1]]\n",
        "\n",
        "lst = [[1, 2, 3], [4, 5, 6], [7, 8, 9]]\n",
        "indices = [1, 2]\n",
        "element = access_nested_element(lst, indices)\n",
        "print(element)\n"
      ],
      "metadata": {
        "colab": {
          "base_uri": "https://localhost:8080/"
        },
        "id": "MbggigGrRWRz",
        "outputId": "0dfd02f7-f630-4f3c-eec7-00d4f00a92e1"
      },
      "execution_count": null,
      "outputs": [
        {
          "output_type": "stream",
          "name": "stdout",
          "text": [
            "6\n"
          ]
        }
      ]
    },
    {
      "cell_type": "markdown",
      "source": [
        "### 3. Sum of All Elements in a Nested List:\n",
        "Write a Python function that calculates the sum of all the numbers in a nested list (regardless of depth).\n",
        "- Requirements:\n",
        "  - Define a function `sum_nested(lst)` that takes a nested list `lst` and returns the sum of all the elements.\n",
        "  - Example: For the input `[[1, 2], [3, [4, 5]], 6]`, the output should be `21`."
      ],
      "metadata": {
        "id": "doQE_iKiB4E8"
      }
    },
    {
      "cell_type": "code",
      "source": [
        "def sum_nested(lst):\n",
        "  \"\"\"\n",
        "  Calculates the sum of all the numbers in a nested list.\n",
        "  Args: lst: The input list.\n",
        "  Returns: The sum of all the numbers in the list.\n",
        "  \"\"\"\n",
        "  total = 0\n",
        "  for element in lst:\n",
        "      if isinstance(element, list):\n",
        "          total += sum_nested(element)\n",
        "      elif isinstance(element, (int, float)):\n",
        "          total += element\n",
        "  return total\n",
        "\n",
        "total = sum_nested([[1, 2], [3, [4, 5]], 6])\n",
        "print(total)"
      ],
      "metadata": {
        "colab": {
          "base_uri": "https://localhost:8080/"
        },
        "id": "mGEifxBbSLcW",
        "outputId": "60f7e328-dc65-47e6-88a8-ea9ae044fca5"
      },
      "execution_count": null,
      "outputs": [
        {
          "output_type": "stream",
          "name": "stdout",
          "text": [
            "21\n"
          ]
        }
      ]
    },
    {
      "cell_type": "markdown",
      "source": [
        "### 4. Remove Specific Element from a Nested List:\n",
        "Write a Python function that removes all occurrences of a specific element from a nested list.\n",
        "- Requirements:\n",
        "  - Define a function `remove_element(lst, elem)` that removes `elem` from `lst` and returns the modified list.\n",
        "  - Example: For the input `lst = [[1, 2], [3, 2], [4, 5]]` and `elem = 2`, the output should be `[[1], [3], [4, 5]]`."
      ],
      "metadata": {
        "id": "-Go0pklbB4Bu"
      }
    },
    {
      "cell_type": "code",
      "source": [
        "def remove_element(lst, elem):\n",
        "  \"\"\"\n",
        "  Removes all occurrences of a specific element from a nested list.\n",
        "  Args: lst: The input list. elem: The element to remove.\n",
        "  Returns: The modified list.\n",
        "  \"\"\"\n",
        "  for i in range(len(lst)):\n",
        "    if isinstance(lst[i], list):\n",
        "      remove_element(lst[i], elem)\n",
        "    elif lst[i] == elem:\n",
        "      lst.remove(elem)\n",
        "  return lst\n",
        "\n",
        "lst = [[1, 2], [3, 2], [4, 5]]\n",
        "elem = 2\n",
        "modified_lst = remove_element(lst, elem)\n",
        "print(modified_lst)"
      ],
      "metadata": {
        "colab": {
          "base_uri": "https://localhost:8080/"
        },
        "id": "PtsSahlzVkZk",
        "outputId": "56afb79a-8faf-42ed-c7ac-98abda329507"
      },
      "execution_count": null,
      "outputs": [
        {
          "output_type": "stream",
          "name": "stdout",
          "text": [
            "[[1], [3], [4, 5]]\n"
          ]
        }
      ]
    },
    {
      "cell_type": "markdown",
      "source": [
        "### 5. Find the Maximum Element in a Nested List:\n",
        "Write a Python function that finds the maximum element in a nested list (regardless of depth).\n",
        "- Requirements:\n",
        "  - Define a function `find_max(lst)` that takes a nested list `lst` and returns the maximum element.\n",
        "  - Example: For the input `[[1, 2], [3, [4, 5]], 6]`, the output should be `6`."
      ],
      "metadata": {
        "id": "EqK6xsQTB3_S"
      }
    },
    {
      "cell_type": "code",
      "source": [
        "def find_max(lst):\n",
        "  \"\"\"\n",
        "  Finds the maximum element in a nested list.\n",
        "  Args: lst: The input list.\n",
        "  Returns: The maximum element.\n",
        "  \"\"\"\n",
        "  max_val = 0\n",
        "\n",
        "  def find_max_recursive(lst, current_max):\n",
        "    \"\"\"Helper function to recursively find the maximum.\"\"\"\n",
        "    for element in lst:\n",
        "      if isinstance(element, list):\n",
        "        current_max = find_max_recursive(element, current_max)\n",
        "      elif isinstance(element, (int, float)):\n",
        "        if element > current_max:\n",
        "          current_max = element\n",
        "    return current_max\n",
        "\n",
        "  max_val = find_max_recursive(lst, max_val)\n",
        "  return max_val\n",
        "\n",
        "lst = [[1, 2], [3, [4, 5]], 6]\n",
        "max_element = find_max(lst)\n",
        "print(max_element)"
      ],
      "metadata": {
        "colab": {
          "base_uri": "https://localhost:8080/"
        },
        "id": "caHC7yy2WyrM",
        "outputId": "615c4ab9-3cc1-403f-8d56-010d0c3e0119"
      },
      "execution_count": null,
      "outputs": [
        {
          "output_type": "stream",
          "name": "stdout",
          "text": [
            "6\n"
          ]
        }
      ]
    },
    {
      "cell_type": "markdown",
      "source": [
        "### 6. Count Occurrences of an Element in a Nested List:\n",
        "Write a Python function that counts how many times a specific element appears in a nested list.\n",
        "- Requirements:\n",
        "  - Define a function `count_occurrences(lst, elem)` that counts the occurrences of `elem` in the nested list `lst`.\n",
        "  - Example: For the input `lst = [[1, 2], [2, 3], [2, 4]]` and `elem = 2`, the output should be `3`.\n"
      ],
      "metadata": {
        "id": "ad6VXHPAB377"
      }
    },
    {
      "cell_type": "code",
      "source": [
        "def count_occurences(lst, elem):\n",
        "  \"\"\"\n",
        "  Counts the occurrences of an element in a nested list.\n",
        "  Args: lst: The input list. elem: The element to count.\n",
        "  Returns: The number of occurrences.\n",
        "  \"\"\"\n",
        "  count = 0\n",
        "  for element in lst:\n",
        "    if isinstance(element, list):\n",
        "      count += count_occurences(element, elem)\n",
        "    elif element == elem:\n",
        "      count += 1\n",
        "  return count\n",
        "\n",
        "lst = [[1, 2], [2, 3], [2, 4]]\n",
        "elem = 2\n",
        "occurrences = count_occurences(lst, elem)\n",
        "print(occurrences)\n"
      ],
      "metadata": {
        "colab": {
          "base_uri": "https://localhost:8080/"
        },
        "id": "1LdxA_XDXcgo",
        "outputId": "c33aabc9-6e13-4303-df63-3b94083dea8f"
      },
      "execution_count": null,
      "outputs": [
        {
          "output_type": "stream",
          "name": "stdout",
          "text": [
            "3\n"
          ]
        }
      ]
    },
    {
      "cell_type": "markdown",
      "source": [
        "### 7. Flatten a List of Lists of Lists:\n",
        "Write a Python function that flattens a list of lists of lists into a single list, regardless of the depth.\n",
        "- Requirements:\n",
        "  - Define a function `deep_flatten(lst)` that takes a deeply nested list `lst` and returns a single flattened list.\n",
        "  - Example: For the input `[[[1, 2], [3, 4]], [[5, 6], [7, 8]]]`, the output should be `[1, 2, 3, 4, 5, 6, 7, 8]`.\n"
      ],
      "metadata": {
        "id": "Du9wy5wvB35t"
      }
    },
    {
      "cell_type": "code",
      "source": [
        "def deep_flatten(lst):\n",
        "  \"\"\"\n",
        "  Flattens a list of lists of lists into a single list.\n",
        "  Args: lst: The input list.\n",
        "  Returns: The flattened list.\n",
        "  \"\"\"\n",
        "  flat_lst = []\n",
        "  for element in lst:\n",
        "    if isinstance(element, list):\n",
        "      flat_lst.extend(deep_flatten(element))\n",
        "    else:\n",
        "      flat_lst.append(element)\n",
        "  return flat_lst\n",
        "\n",
        "lst = [[[1, 2], [3, 4]], [[5, 6], [7, 8]]]\n",
        "flat_lst = deep_flatten(lst)\n",
        "print(flat_lst)"
      ],
      "metadata": {
        "colab": {
          "base_uri": "https://localhost:8080/"
        },
        "id": "Si-_ahF4XdJ_",
        "outputId": "5ecb899b-853f-450a-bd41-ed3c401f0215"
      },
      "execution_count": null,
      "outputs": [
        {
          "output_type": "stream",
          "name": "stdout",
          "text": [
            "[1, 2, 3, 4, 5, 6, 7, 8]\n"
          ]
        }
      ]
    },
    {
      "cell_type": "markdown",
      "source": [
        "### 8. Nested List Average:\n",
        "Write a Python function that calculates the average of all elements in a nested list.\n",
        "- Requirements:\n",
        "  - Define a function `average_nested(lst)` that takes a nested list `lst` and returns the average of all the elements.\n",
        "  - Example: For the input `[[1, 2], [3, 4], [5, 6]]`, the output should be `3.5`."
      ],
      "metadata": {
        "id": "P7TWgps4B32W"
      }
    },
    {
      "cell_type": "code",
      "source": [
        "def average_nested(lst):\n",
        "  \"\"\"\n",
        "  Calculates the average of all elements in a nested list.\n",
        "  Args: lst: The input list.\n",
        "  Returns: The average\n",
        "  \"\"\"\n",
        "  flat_lst = []\n",
        "  for element in lst:\n",
        "    if isinstance(element, list):\n",
        "      flat_lst.extend(deep_flatten(element))\n",
        "    else:\n",
        "      flat_lst.append(element)\n",
        "  sum = 0\n",
        "  for i in flat_lst:\n",
        "    sum += i\n",
        "  return sum/len(flat_lst)\n",
        "lst = [[1, 2], [3, 4], [5, 6]]\n",
        "print(average_nested(lst))\n",
        "\n"
      ],
      "metadata": {
        "colab": {
          "base_uri": "https://localhost:8080/"
        },
        "id": "OR1KNpd-Xdpu",
        "outputId": "b91e6d41-5fb2-473e-c9e1-3593882f1387"
      },
      "execution_count": null,
      "outputs": [
        {
          "output_type": "stream",
          "name": "stdout",
          "text": [
            "3.5\n"
          ]
        }
      ]
    },
    {
      "cell_type": "markdown",
      "source": [
        "# 10 To-Do - NumPy\n",
        "\n",
        "Please complete all the problems listed below:"
      ],
      "metadata": {
        "id": "PzHD83BRCqQY"
      }
    },
    {
      "cell_type": "code",
      "source": [
        "import numpy as np"
      ],
      "metadata": {
        "id": "c_33biKa8i57"
      },
      "execution_count": null,
      "outputs": []
    },
    {
      "cell_type": "markdown",
      "source": [
        "\n",
        "\n",
        "## 10.1 Basic Vector and Matrix Operation with Numpy.\n",
        "\n",
        "### Problem - 1: Array Creation:\n",
        "Complete the following Tasks:\n",
        "1. Initialize an empty array with size 2X2.\n",
        "2. Initialize an all one array with size 4X2.\n",
        "3. Return a new array of given shape and type, filled with fill value. {Hint: np.full}\n",
        "4. Return a new array of zeros with same shape and type as a given array. {Hint: np.zeros_like}\n",
        "5. Return a new array of ones with same shape and type as a given array. {Hint: np.ones_like}\n",
        "6. For an existing list new_list = [1,2,3,4] convert to an numpy array. {Hint: np.array()}"
      ],
      "metadata": {
        "id": "LKNUQ3LiB3zq"
      }
    },
    {
      "cell_type": "code",
      "source": [
        "# Initialize an empty array with size 2X2.\n",
        "empty_arr = np.empty((2,2))\n",
        "print(\"\\nEmpty array with size 2X2:\")\n",
        "print(empty_arr)\n",
        "\n",
        "# Initialize an all one array with size 4X2.\n",
        "one_array = np.ones((4,2))\n",
        "print(\"\\nAll one array with size 4X2:\")\n",
        "print(one_array)\n",
        "\n",
        "# Return a new array of given shape and type, filled with fill value\n",
        "filled_array = np.full((3, 3), 7, dtype=int)\n",
        "print(\"\\nFilled array with shape (3, 3) and fill value 7:\")\n",
        "print(filled_array)\n",
        "\n",
        "# Return a new array of zeros with same shape and type as a given array\n",
        "a = np.array([[1, 2, 4], [3, 4, 5]])\n",
        "zeros_like_array = np.zeros_like(a)\n",
        "print(\"\\nArray of zeros with same shape and type as 'a':\")\n",
        "print(zeros_like_array)\n",
        "\n",
        "# Return a new array of ones with same shape and type as a given array\n",
        "ones_like_array = np.ones_like(a)\n",
        "print(\"\\nArray of ones with same shape and type as 'a':\")\n",
        "print(ones_like_array)\n",
        "\n",
        "# Convert an existing list to a NumPy array\n",
        "new_list = [1, 2, 3, 4]\n",
        "numpy_array = np.array(new_list)\n",
        "print(\"\\nNumPy array from list:\", numpy_array)"
      ],
      "metadata": {
        "colab": {
          "base_uri": "https://localhost:8080/"
        },
        "id": "_5gV49cO14_h",
        "outputId": "fa661853-7e25-473c-cc8c-dce7621051bf"
      },
      "execution_count": null,
      "outputs": [
        {
          "output_type": "stream",
          "name": "stdout",
          "text": [
            "\n",
            "Empty array with size 2X2:\n",
            "[[0. 0.]\n",
            " [0. 0.]]\n",
            "\n",
            "All one array with size 4X2:\n",
            "[[1. 1.]\n",
            " [1. 1.]\n",
            " [1. 1.]\n",
            " [1. 1.]]\n",
            "\n",
            "Filled array with shape (3, 3) and fill value 7:\n",
            "[[7 7 7]\n",
            " [7 7 7]\n",
            " [7 7 7]]\n",
            "\n",
            "Array of zeros with same shape and type as 'a':\n",
            "[[0 0 0]\n",
            " [0 0 0]]\n",
            "\n",
            "Array of ones with same shape and type as 'a':\n",
            "[[1 1 1]\n",
            " [1 1 1]]\n",
            "\n",
            "NumPy array from list: [1 2 3 4]\n"
          ]
        }
      ]
    },
    {
      "cell_type": "markdown",
      "source": [
        "### Problem - 2: Array Manipulation: Numerical Ranges and Array indexing:\n",
        "Complete the following tasks:\n",
        "1. Create an array with values ranging from 10 to 49. {Hint: np.arange()}.\n",
        "2. Create a 3X3 matrix with values ranging from 0 to 8. {Hint: look for np.reshape()}\n",
        "3. Create a 3X3 identity matrix. {Hint: np.eye()}\n",
        "4. Create a random array of size 30 and find the mean of the array. {Hint: check for np.random.random() and array.mean() function}\n",
        "5. Create a 10X10 array with random values and find the minimum and maximum values.\n",
        "6. Create a zero array of size 10 and replace 5th element with 1.\n",
        "7. Reverse an array arr = [1,2,0,0,4,0].\n",
        "8. Create a 2d array with 1 on border and 0 inside.\n",
        "9. Create a 8X8 matrix and fill it with a checkerboard pattern."
      ],
      "metadata": {
        "id": "oDo_XtScCsMO"
      }
    },
    {
      "cell_type": "code",
      "source": [
        "# Create an array with values ranging from 10 to 49\n",
        "array_10_to_49 = np.arange(10, 50)\n",
        "print(\"Array from 10 to 49:\", array_10_to_49)\n",
        "\n",
        "# Create a 3x3 matrix with values ranging from 0 to 8\n",
        "matrix_3x3 = np.arange(9).reshape((3, 3))\n",
        "print(\"\\n3x3 matrix from 0 to 8:\")\n",
        "print(matrix_3x3)\n",
        "\n",
        "# Create a 3x3 identity matrix\n",
        "identity_matrix = np.eye(3)\n",
        "print(\"\\n3x3 identity matrix:\")\n",
        "print(identity_matrix)\n",
        "\n",
        "# Create a random array of size 30 and find the mean\n",
        "random_array = np.random.random(30)\n",
        "mean_value = random_array.mean()\n",
        "print(\"\\nRandom array of size 30:\")\n",
        "print(\"\\nMean of the random array:\", mean_value)\n",
        "\n",
        "# Create a 10x10 array with random values and find min/max\n",
        "random_array_10x10 = np.random.random((10, 10))\n",
        "min_value = random_array_10x10.min()\n",
        "max_value = random_array_10x10.max()\n",
        "print(\"\\n10x10 array with random values:\")\n",
        "print(\"\\nMinimum value:\", min_value)\n",
        "print(\"Maximum value:\", max_value)\n",
        "\n",
        "# Create a zero array of size 10 and replace 5th element with 1\n",
        "zero_array = np.zeros(10)\n",
        "zero_array[4] = 1\n",
        "print(\"\\nZero array with 5th element replaced with 1:\")\n",
        "print(zero_array)\n",
        "\n",
        "# Reverse an array arr = [1, 2, 0, 0, 4, 0]\n",
        "arr = np.array([1, 2, 0, 0, 4, 0])\n",
        "reversed_arr = arr[::-1]\n",
        "print(\"\\nReversed array:\", reversed_arr)\n",
        "\n",
        "# Create a 2d array with 1 on border and 0 inside\n",
        "array_2d = np.ones((5, 5))  # Example size 5x5\n",
        "array_2d[1:-1, 1:-1] = 0\n",
        "print(\"\\n2d array with 1 on border and 0 inside:\")\n",
        "print(array_2d)\n",
        "\n",
        "# Create an 8x8 matrix and fill it with a checkerboard pattern\n",
        "checkerboard = np.zeros((8, 8), dtype=int)\n",
        "checkerboard[1::2, ::2] = 1\n",
        "checkerboard[::2, 1::2] = 1\n",
        "print(\"\\nCheckerboard pattern:\")\n",
        "print(checkerboard)"
      ],
      "metadata": {
        "colab": {
          "base_uri": "https://localhost:8080/"
        },
        "id": "GmOGpLbxAuAu",
        "outputId": "842970f2-d086-4284-ab55-d23eb625b9ec"
      },
      "execution_count": null,
      "outputs": [
        {
          "output_type": "stream",
          "name": "stdout",
          "text": [
            "Array from 10 to 49: [10 11 12 13 14 15 16 17 18 19 20 21 22 23 24 25 26 27 28 29 30 31 32 33\n",
            " 34 35 36 37 38 39 40 41 42 43 44 45 46 47 48 49]\n",
            "\n",
            "3x3 matrix from 0 to 8:\n",
            "[[0 1 2]\n",
            " [3 4 5]\n",
            " [6 7 8]]\n",
            "\n",
            "3x3 identity matrix:\n",
            "[[1. 0. 0.]\n",
            " [0. 1. 0.]\n",
            " [0. 0. 1.]]\n",
            "\n",
            "Random array of size 30:\n",
            "\n",
            "Mean of the random array: 0.42363413114010023\n",
            "\n",
            "10x10 array with random values:\n",
            "\n",
            "Minimum value: 0.021604833632329568\n",
            "Maximum value: 0.9996527419924658\n",
            "\n",
            "Zero array with 5th element replaced with 1:\n",
            "[0. 0. 0. 0. 1. 0. 0. 0. 0. 0.]\n",
            "\n",
            "Reversed array: [0 4 0 0 2 1]\n",
            "\n",
            "2d array with 1 on border and 0 inside:\n",
            "[[1. 1. 1. 1. 1.]\n",
            " [1. 0. 0. 0. 1.]\n",
            " [1. 0. 0. 0. 1.]\n",
            " [1. 0. 0. 0. 1.]\n",
            " [1. 1. 1. 1. 1.]]\n",
            "\n",
            "Checkerboard pattern:\n",
            "[[0 1 0 1 0 1 0 1]\n",
            " [1 0 1 0 1 0 1 0]\n",
            " [0 1 0 1 0 1 0 1]\n",
            " [1 0 1 0 1 0 1 0]\n",
            " [0 1 0 1 0 1 0 1]\n",
            " [1 0 1 0 1 0 1 0]\n",
            " [0 1 0 1 0 1 0 1]\n",
            " [1 0 1 0 1 0 1 0]]\n"
          ]
        }
      ]
    },
    {
      "cell_type": "markdown",
      "source": [
        "### Problem - 3: Array Operations:\n",
        "For the following arrays:\n",
        "x = np.array([[1,2],[3,5]]) and y = np.array([[5,6],[7,8]]);\n",
        "v = np.array([9,10]) and w = np.array([11,12]);\n",
        "\n",
        "Complete all the task using numpy:\n",
        "1. Add the two array.\n",
        "2. Subtract the two array.\n",
        "3. Multiply the array with any integers of your choice.\n",
        "4. Find the square of each element of the array.\n",
        "5. Find the dot product between: v(and)w ; x(and)v ; x(and)y.\n",
        "6. Concatenate x(and)y along row and Concatenate v(and)w along column. {Hint: try np.concatenate() or np.vstack() functions.\n",
        "7. Concatenate x(and)v; if you get an error, observe and explain why did you get the error?"
      ],
      "metadata": {
        "id": "aMlFgYyFCsJS"
      }
    },
    {
      "cell_type": "code",
      "source": [
        "x = np.array([[1, 2], [3, 5]])\n",
        "y = np.array([[5, 6], [7, 8]])\n",
        "v = np.array([9, 10])\n",
        "w = np.array([11, 12])\n",
        "\n",
        "# Add the two arrays (x and y)\n",
        "addition_result = x + y\n",
        "print(\"Addition Result (x + y):\")\n",
        "print(addition_result)\n",
        "\n",
        "# Subtract the two arrays (x and y)\n",
        "subtraction_result = x - y\n",
        "print(\"\\nSubtraction Result (x - y):\")\n",
        "print(subtraction_result)\n",
        "\n",
        "# Multiply the array (x) with an integer (3)\n",
        "multiplication_result = x * 3\n",
        "print(\"\\nMultiplication Result (x * 3):\")\n",
        "print(multiplication_result)\n",
        "\n",
        "# Find the square of each element of the array (x)\n",
        "square_result = x ** 2\n",
        "print(\"\\nSquare of each element of x:\")\n",
        "print(square_result)\n",
        "\n",
        "# Find the dot product between:\n",
        "#    - v and w\n",
        "dot_product_vw = np.dot(v, w)\n",
        "print(\"\\nDot product of v and w:\", dot_product_vw)\n",
        "\n",
        "#    - x and v\n",
        "dot_product_xv = np.dot(x, v)\n",
        "print(\"Dot product of x and v:\", dot_product_xv)\n",
        "\n",
        "#    - x and y\n",
        "dot_product_xy = np.dot(x, y)\n",
        "print(\"Dot product of x and y:\")\n",
        "print(dot_product_xy)\n",
        "\n",
        "# Concatenate:\n",
        "#    - x and y along row\n",
        "concatenate_xy_row = np.concatenate((x, y), axis=0)\n",
        "print(\"\\nConcatenation of x and y along row:\")\n",
        "print(concatenate_xy_row)\n",
        "\n",
        "#    - v and w along column\n",
        "v = np.reshape((v), (2, 1))\n",
        "w = np.reshape((w), (2, 1))\n",
        "concatenate_vw_col = np.concatenate([v, w], axis=1)\n",
        "print(\"\\nConcatenation of v and w along column:\")\n",
        "print(concatenate_vw_col)\n",
        "\n",
        "# Concatenate x and v\n",
        "concatenate_xv = np.concatenate((x, v))\n"
      ],
      "metadata": {
        "colab": {
          "base_uri": "https://localhost:8080/",
          "height": 731
        },
        "id": "mIN75YhzD4br",
        "outputId": "b9e21558-030e-46a0-9ddf-3bf6baa1a5e5"
      },
      "execution_count": null,
      "outputs": [
        {
          "output_type": "stream",
          "name": "stdout",
          "text": [
            "Addition Result (x + y):\n",
            "[[ 6  8]\n",
            " [10 13]]\n",
            "\n",
            "Subtraction Result (x - y):\n",
            "[[-4 -4]\n",
            " [-4 -3]]\n",
            "\n",
            "Multiplication Result (x * 3):\n",
            "[[ 3  6]\n",
            " [ 9 15]]\n",
            "\n",
            "Square of each element of x:\n",
            "[[ 1  4]\n",
            " [ 9 25]]\n",
            "\n",
            "Dot product of v and w: 219\n",
            "Dot product of x and v: [29 77]\n",
            "Dot product of x and y:\n",
            "[[19 22]\n",
            " [50 58]]\n",
            "\n",
            "Concatenation of x and y along row:\n",
            "[[1 2]\n",
            " [3 5]\n",
            " [5 6]\n",
            " [7 8]]\n",
            "\n",
            "Concatenation of v and w along column:\n",
            "[[ 9 11]\n",
            " [10 12]]\n"
          ]
        },
        {
          "output_type": "error",
          "ename": "ValueError",
          "evalue": "all the input array dimensions except for the concatenation axis must match exactly, but along dimension 1, the array at index 0 has size 2 and the array at index 1 has size 1",
          "traceback": [
            "\u001b[0;31m---------------------------------------------------------------------------\u001b[0m",
            "\u001b[0;31mValueError\u001b[0m                                Traceback (most recent call last)",
            "\u001b[0;32m<ipython-input-46-81f35a2fc6a2>\u001b[0m in \u001b[0;36m<cell line: 0>\u001b[0;34m()\u001b[0m\n\u001b[1;32m     52\u001b[0m \u001b[0;34m\u001b[0m\u001b[0m\n\u001b[1;32m     53\u001b[0m \u001b[0;31m# Concatenate x and v\u001b[0m\u001b[0;34m\u001b[0m\u001b[0;34m\u001b[0m\u001b[0m\n\u001b[0;32m---> 54\u001b[0;31m \u001b[0mconcatenate_xv\u001b[0m \u001b[0;34m=\u001b[0m \u001b[0mnp\u001b[0m\u001b[0;34m.\u001b[0m\u001b[0mconcatenate\u001b[0m\u001b[0;34m(\u001b[0m\u001b[0;34m(\u001b[0m\u001b[0mx\u001b[0m\u001b[0;34m,\u001b[0m \u001b[0mv\u001b[0m\u001b[0;34m)\u001b[0m\u001b[0;34m)\u001b[0m\u001b[0;34m\u001b[0m\u001b[0;34m\u001b[0m\u001b[0m\n\u001b[0m",
            "\u001b[0;31mValueError\u001b[0m: all the input array dimensions except for the concatenation axis must match exactly, but along dimension 1, the array at index 0 has size 2 and the array at index 1 has size 1"
          ]
        }
      ]
    },
    {
      "cell_type": "markdown",
      "source": [
        "### Problem - 4: Matrix Operations:\n",
        "- For the following arrays:\n",
        "A = np.array([[3,4],[7,8]]) and B = np.array([[5,3],[2,1]]);\n",
        "\n",
        "Prove following with Numpy:\n",
        "1. Prove A.A⁻¹ = I.\n",
        "2. Prove AB ≠ BA.\n",
        "3. Prove (AB)ᵀ = BᵀAᵀ.\n"
      ],
      "metadata": {
        "id": "ju4ebtedCsFv"
      }
    },
    {
      "cell_type": "code",
      "source": [
        "A = np.array([[3,4],[7,8]])\n",
        "B = np.array([[5,3],[2,1]])\n",
        "shape = np.shape(A)\n",
        "\n",
        "# Prove A.A⁻¹ = I\n",
        "I = np.eye(shape[1])\n",
        "inverse = np.linalg.inv(A)\n",
        "\n",
        "dot_prod = np.dot(A,inverse)\n",
        "dot_prod = np.round(dot_prod, decimals=10)\n",
        "\n",
        "print('\\nProve A.A⁻¹ = I')\n",
        "print(dot_prod)\n",
        "print(I)\n",
        "print(f\"Both matrices are equal: {np.array_equal(dot_prod, I)}\")\n",
        "\n",
        "# Prove AB ≠ BA.\n",
        "AB = np.dot(A,B)\n",
        "BA = np.dot(B,A)\n",
        "print('\\nProve AB ≠ BA')\n",
        "print(AB)\n",
        "print(BA)\n",
        "print(f\"Both matrices are not equal: {not np.array_equal(AB, BA)}\")\n",
        "\n",
        "# Prove (AB)ᵀ = BᵀAᵀ\n",
        "print('\\n')\n",
        "ABT = np.transpose(np.dot(A,B))\n",
        "print(\"AB Transpose: \\n\",ABT)\n",
        "BT = np.transpose(B)\n",
        "AT = np.transpose(A)\n",
        "BTA = np.dot(BT,AT)\n",
        "print(\"B Transpose A Transpose: \\n\",BTA)\n",
        "print(f\"Both matrices are equal: {np.array_equal(ABT, BTA)}\")"
      ],
      "metadata": {
        "colab": {
          "base_uri": "https://localhost:8080/"
        },
        "id": "k40Yis7nQBCS",
        "outputId": "ec0f81f2-a6a6-4358-8e1f-ff703ca64bee"
      },
      "execution_count": null,
      "outputs": [
        {
          "output_type": "stream",
          "name": "stdout",
          "text": [
            "\n",
            "Prove A.A⁻¹ = I\n",
            "[[1. 0.]\n",
            " [0. 1.]]\n",
            "[[1. 0.]\n",
            " [0. 1.]]\n",
            "Both matrices are equal: True\n",
            "\n",
            "Prove AB ≠ BA\n",
            "[[23 13]\n",
            " [51 29]]\n",
            "[[36 44]\n",
            " [13 16]]\n",
            "Both matrices are not equal: True\n",
            "\n",
            "\n",
            "AB Transpose: \n",
            " [[23 51]\n",
            " [13 29]]\n",
            "B Transpose A Transpose: \n",
            " [[23 51]\n",
            " [13 29]]\n",
            "Both matrices are equal: True\n"
          ]
        }
      ]
    },
    {
      "cell_type": "markdown",
      "source": [
        "- Solve the following system of Linear equation using Inverse Methods.\n",
        "\n",
        "2x − 3y + z = −1\n",
        "x − y + 2z = −3\n",
        "3x + y − z = 9\n",
        "\n",
        "{Hint: First use Numpy array to represent the equation in Matrix form. Then Solve for: AX = B}\n",
        "\n",
        "- Now: solve the above equation using np.linalg.inv function. {Explore more about \"linalg\" function of Numpy}"
      ],
      "metadata": {
        "id": "gwEzQbONQMD3"
      }
    },
    {
      "cell_type": "code",
      "source": [
        "A = np.array([[2, -3, 1], [1, -1, 2], [3, 1, -1]])\n",
        "B = np.array([-1, -3, 9])\n",
        "\n",
        "A_inv = np.linalg.inv(A)\n",
        "\n",
        "X = np.dot(A_inv, B)\n",
        "\n",
        "print(\"Solution:\")\n",
        "print(\"x =\", X[0])\n",
        "print(\"y =\", X[1])\n",
        "print(\"z =\", X[2])"
      ],
      "metadata": {
        "colab": {
          "base_uri": "https://localhost:8080/"
        },
        "id": "TGkqpHCtQNuy",
        "outputId": "4ece762c-eaa1-4e11-a73d-6128fd479706"
      },
      "execution_count": null,
      "outputs": [
        {
          "output_type": "stream",
          "name": "stdout",
          "text": [
            "Solution:\n",
            "x = 2.0\n",
            "y = 1.0\n",
            "z = -2.0\n"
          ]
        }
      ]
    },
    {
      "cell_type": "markdown",
      "source": [
        "## 10.2 Experiment: How Fast is Numpy?\n",
        "\n",
        "In this exercise, you will compare the performance and implementation of operations using plain Python lists (arrays) and NumPy arrays. Follow the instructions:\n",
        "\n",
        "1. Element-wise Addition:\n",
        "   - Using Python Lists, perform element-wise addition of two lists of size 1,000,000. Measure and Print the time taken for this operation.\n",
        "   - Using Numpy Arrays, Repeat the calculation and measure and print the time taken for this operation.\n"
      ],
      "metadata": {
        "id": "Jbjw1VxeCsCt"
      }
    },
    {
      "cell_type": "code",
      "source": [
        "import random\n",
        "import time\n",
        "\n",
        "list1 = random.choices(range(1, 2000), k=1_000_000)\n",
        "list2 = random.choices(range(1, 5000), k=1_000_000)\n",
        "\n",
        "# Using list\n",
        "s_time = time.time()\n",
        "result = [x+y for x,y in zip(list1, list2)]\n",
        "e_time = time.time()\n",
        "print(f\"(Python Lists): {e_time - s_time:.4f} sec\")\n",
        "\n",
        "# Using Numpy\n",
        "list1 = np.array(list1)\n",
        "list2 = np.array(list2)\n",
        "s_time = time.time()\n",
        "result = list1 + list2\n",
        "e_time = time.time()\n",
        "print(f\"(Numpy Arrays): {e_time - s_time:.4f} sec\")"
      ],
      "metadata": {
        "colab": {
          "base_uri": "https://localhost:8080/"
        },
        "id": "gEd3ZmYre7qQ",
        "outputId": "d235a46a-88db-4ee9-dec0-8597a418f322"
      },
      "execution_count": null,
      "outputs": [
        {
          "output_type": "stream",
          "name": "stdout",
          "text": [
            "(Python Lists): 0.1001 sec\n",
            "(Numpy Arrays): 0.0028 sec\n"
          ]
        }
      ]
    },
    {
      "cell_type": "markdown",
      "source": [
        "2. Element-wise Multiplication\n",
        "   - Using Python Lists, perform element-wise multiplication of two lists of size 1,000,000. Measure and Print the time taken for this operation.\n",
        "   - Using Numpy Arrays, Repeat the calculation and measure and print the time taken for this operation.\n",
        "\n"
      ],
      "metadata": {
        "id": "CNQDsYXYCr_4"
      }
    },
    {
      "cell_type": "code",
      "source": [
        "import random\n",
        "import time\n",
        "\n",
        "list1 = random.choices(range(1, 2000), k=1_000_000)\n",
        "list2 = random.choices(range(1, 5000), k=1_000_000)\n",
        "\n",
        "# Using list\n",
        "s_time = time.time()\n",
        "result = [x*y for x,y in zip(list1, list2)]\n",
        "e_time = time.time()\n",
        "print(f\"(Python Lists): {e_time - s_time:.4f} sec\")\n",
        "\n",
        "# Using Numpy\n",
        "list1 = np.array(list1)\n",
        "list2 = np.array(list2)\n",
        "s_time = time.time()\n",
        "result = list1 * list2\n",
        "e_time = time.time()\n",
        "print(f\"(Numpy Arrays): {e_time - s_time:.4f} sec\")"
      ],
      "metadata": {
        "colab": {
          "base_uri": "https://localhost:8080/"
        },
        "id": "QAwgQNVEiVae",
        "outputId": "cc5d89a7-4ce8-49fd-a3f7-e9bd483059ce"
      },
      "execution_count": null,
      "outputs": [
        {
          "output_type": "stream",
          "name": "stdout",
          "text": [
            "(Python Lists): 0.1181 sec\n",
            "(Numpy Arrays): 0.0071 sec\n"
          ]
        }
      ]
    },
    {
      "cell_type": "markdown",
      "source": [
        "3. Dot Product\n",
        "   - Using Python Lists, compute the dot product of two lists of size 1,000,000. Measure and Print the time taken for this operation.\n",
        "   - Using Numpy Arrays, Repeat the calculation and measure and print the time taken for this operation."
      ],
      "metadata": {
        "id": "p9oU0baJB3wL"
      }
    },
    {
      "cell_type": "code",
      "source": [
        "import random\n",
        "import time\n",
        "\n",
        "list1 = random.choices(range(1, 2000), k=1_000_000)\n",
        "list2 = random.choices(range(1, 5000), k=1_000_000)\n",
        "\n",
        "# Using list\n",
        "s_time = time.time()\n",
        "result = [x*y for x,y in zip(list1, list2)]\n",
        "e_time = time.time()\n",
        "print(f\"(Python Lists): {e_time - s_time:.4f} sec\")\n",
        "\n",
        "# Using Numpy\n",
        "list1 = np.array(list1)\n",
        "list2 = np.array(list2)\n",
        "s_time = time.time()\n",
        "result = np.dot(list1,list2)\n",
        "e_time = time.time()\n",
        "print(f\"(Numpy Arrays): {e_time - s_time:.4f} sec\")"
      ],
      "metadata": {
        "colab": {
          "base_uri": "https://localhost:8080/"
        },
        "id": "ypJyhKXIjCp7",
        "outputId": "fc35020e-a985-4435-f011-90d8c6aa6421"
      },
      "execution_count": null,
      "outputs": [
        {
          "output_type": "stream",
          "name": "stdout",
          "text": [
            "(Python Lists): 0.2059 sec\n",
            "(Numpy Arrays): 0.0027 sec\n"
          ]
        }
      ]
    },
    {
      "cell_type": "markdown",
      "source": [
        "\n",
        "4. Matrix Multiplication\n",
        "   - Using Python lists, perform matrix multiplication of two matrices of size 1000x1000. Measure and print the time taken for this operation.\n",
        "   - Using NumPy arrays, perform matrix multiplication of two matrices of size 1000x1000. Measure and print the time taken for this operation."
      ],
      "metadata": {
        "id": "mSstp2vIDw8R"
      }
    },
    {
      "cell_type": "code",
      "source": [
        "matrix_size = 1000\n",
        "\n",
        "matrix1_list = [[i + j for j in range(matrix_size)] for i in range(matrix_size)]\n",
        "matrix2_list = [[i * j for j in range(matrix_size)] for i in range(matrix_size)]\n",
        "\n",
        "# Python Lists\n",
        "start_time = time.time()\n",
        "result_matrix_list = [[sum(a * b for a, b in zip(row_a, col_b))\n",
        "                      for col_b in zip(*matrix2_list)] for row_a in matrix1_list]\n",
        "end_time = time.time()\n",
        "print(f\"\\n(Python Lists): {end_time - start_time:.4f} seconds\")\n",
        "\n",
        "# NumPy Arrays\n",
        "matrix1_array = np.array(matrix1_list)\n",
        "matrix2_array = np.array(matrix2_list)\n",
        "start_time = time.time()\n",
        "result_matrix_array = np.dot(matrix1_array, matrix2_array)\n",
        "end_time = time.time()\n",
        "print(f\"(NumPy Arrays): {end_time - start_time:.4f} seconds\")"
      ],
      "metadata": {
        "colab": {
          "base_uri": "https://localhost:8080/"
        },
        "id": "YZCJFD_bjUPv",
        "outputId": "15d6ff1a-6a41-4a73-ccf3-fdaab8364926"
      },
      "execution_count": null,
      "outputs": [
        {
          "output_type": "stream",
          "name": "stdout",
          "text": [
            "\n",
            "(Python Lists): 211.3727 seconds\n",
            "(NumPy Arrays): 1.6273 seconds\n"
          ]
        }
      ]
    }
  ]
}